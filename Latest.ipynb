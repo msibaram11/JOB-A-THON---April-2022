{
 "cells": [
  {
   "cell_type": "markdown",
   "metadata": {},
   "source": [
    "## In statistics, the variance inflation factor (VIF) is the ratio (quotient) of the variance of estimating some parameter in a model that includes multiple other terms (parameters) by the variance of a model constructed using only one term.\n",
    "\n",
    "### I used this VIF method and found some over correlated columns and dropped 'year' and 'is_quarter_date'.\n",
    "\n",
    "### After dropping these 2 columns VIF value for all other columns stayed below 5 so I took all of them into consideration and splitted the data"
   ]
  },
  {
   "cell_type": "markdown",
   "metadata": {},
   "source": [
    "### After that I transformed the cyclical features like 'hour', 'month' & 'day_of_week' using cosine and sine transformation.\n",
    "\n",
    "### Then modelling and training the data."
   ]
  },
  {
   "cell_type": "markdown",
   "metadata": {},
   "source": [
    "#### Somehow I was trying to convert target variable using logarithmic transformation, cosine transformation & used as it was but got some good results."
   ]
  },
  {
   "cell_type": "markdown",
   "metadata": {},
   "source": [
    "#### After predicting the test data demand variable I added 'z back because in labelencoder it reduced '1' from each values."
   ]
  },
  {
   "cell_type": "code",
   "execution_count": 1,
   "metadata": {
    "_cell_guid": "b1076dfc-b9ad-4769-8c92-a6c4dae69d19",
    "_uuid": "8f2839f25d086af736a60e9eeb907d3b93b6e0e5",
    "execution": {
     "iopub.execute_input": "2022-04-24T10:56:08.802427Z",
     "iopub.status.busy": "2022-04-24T10:56:08.801590Z",
     "iopub.status.idle": "2022-04-24T10:56:09.005499Z",
     "shell.execute_reply": "2022-04-24T10:56:09.004737Z",
     "shell.execute_reply.started": "2022-04-24T10:56:08.802379Z"
    }
   },
   "outputs": [],
   "source": [
    "import pandas as pd\n",
    "import numpy as np\n",
    "\n",
    "import statsmodels.api as sm\n",
    "from statsmodels.stats.outliers_influence import variance_inflation_factor\n",
    "\n",
    "import matplotlib.pyplot as plt\n",
    "import seaborn as sns"
   ]
  },
  {
   "cell_type": "code",
   "execution_count": 2,
   "metadata": {
    "execution": {
     "iopub.execute_input": "2022-04-24T12:29:06.333248Z",
     "iopub.status.busy": "2022-04-24T12:29:06.331863Z",
     "iopub.status.idle": "2022-04-24T12:29:06.356528Z",
     "shell.execute_reply": "2022-04-24T12:29:06.355232Z",
     "shell.execute_reply.started": "2022-04-24T12:29:06.333191Z"
    }
   },
   "outputs": [],
   "source": [
    "train = pd.read_csv(\"train.csv\")"
   ]
  },
  {
   "cell_type": "code",
   "execution_count": 3,
   "metadata": {
    "execution": {
     "iopub.execute_input": "2022-04-24T12:29:07.327371Z",
     "iopub.status.busy": "2022-04-24T12:29:07.325959Z",
     "iopub.status.idle": "2022-04-24T12:29:07.338095Z",
     "shell.execute_reply": "2022-04-24T12:29:07.337040Z",
     "shell.execute_reply.started": "2022-04-24T12:29:07.327308Z"
    }
   },
   "outputs": [],
   "source": [
    "test = pd.read_csv(\"test.csv\")"
   ]
  },
  {
   "cell_type": "code",
   "execution_count": 4,
   "metadata": {
    "execution": {
     "iopub.execute_input": "2022-04-24T12:29:08.315006Z",
     "iopub.status.busy": "2022-04-24T12:29:08.314624Z",
     "iopub.status.idle": "2022-04-24T12:29:08.326184Z",
     "shell.execute_reply": "2022-04-24T12:29:08.325452Z",
     "shell.execute_reply.started": "2022-04-24T12:29:08.314968Z"
    }
   },
   "outputs": [],
   "source": [
    "ss = pd.read_csv(\"sample_submission.csv\")"
   ]
  },
  {
   "cell_type": "code",
   "execution_count": 8,
   "metadata": {},
   "outputs": [
    {
     "data": {
      "text/plain": [
       "436.0232680395623"
      ]
     },
     "execution_count": 8,
     "metadata": {},
     "output_type": "execute_result"
    }
   ],
   "source": [
    "z = (train['demand'].count() - train['demand'].mean()) / train['demand'].std()\n",
    "z"
   ]
  },
  {
   "cell_type": "code",
   "execution_count": 9,
   "metadata": {
    "execution": {
     "iopub.execute_input": "2022-04-24T12:29:20.225555Z",
     "iopub.status.busy": "2022-04-24T12:29:20.224891Z",
     "iopub.status.idle": "2022-04-24T12:29:20.232528Z",
     "shell.execute_reply": "2022-04-24T12:29:20.231604Z",
     "shell.execute_reply.started": "2022-04-24T12:29:20.225511Z"
    }
   },
   "outputs": [],
   "source": [
    "df = train.copy()"
   ]
  },
  {
   "cell_type": "code",
   "execution_count": 10,
   "metadata": {
    "execution": {
     "iopub.execute_input": "2022-04-24T12:29:21.246463Z",
     "iopub.status.busy": "2022-04-24T12:29:21.246125Z",
     "iopub.status.idle": "2022-04-24T12:29:21.801441Z",
     "shell.execute_reply": "2022-04-24T12:29:21.800368Z",
     "shell.execute_reply.started": "2022-04-24T12:29:21.246427Z"
    }
   },
   "outputs": [],
   "source": [
    " # Extract date feature\n",
    "df['date'] = pd.to_datetime(df['date'])\n",
    "df['year'] = df['date'].apply(lambda x: x.year) #because model wont have experience past 2017 cause year has (2015-2017)\n",
    "df['month'] = df['date'].apply(lambda x: x.month)\n",
    "df['day'] = df['date'].apply(lambda x: x.day)\n",
    "df['day_of_week'] = df['date'].apply(lambda x: x.dayofweek)\n",
    "df['is_quarter_date'] = df['date'].apply(lambda x: x.quarter)\n",
    "df['is_weekend'] = df['day_of_week'].apply(lambda x: 1 if x>4 else 0)\n",
    "\n",
    "df.drop(['date'], axis=1, inplace=True)"
   ]
  },
  {
   "cell_type": "code",
   "execution_count": 11,
   "metadata": {
    "execution": {
     "iopub.execute_input": "2022-04-24T12:29:23.557303Z",
     "iopub.status.busy": "2022-04-24T12:29:23.556963Z",
     "iopub.status.idle": "2022-04-24T12:29:24.287660Z",
     "shell.execute_reply": "2022-04-24T12:29:24.287018Z",
     "shell.execute_reply.started": "2022-04-24T12:29:23.557269Z"
    }
   },
   "outputs": [],
   "source": [
    "# Extract date feature for test\n",
    "test['date'] = pd.to_datetime(test['date'])\n",
    "# test['year'] = test['date'].apply(lambda x: x.year) #because model wont have experience past 2017 cause year has (2015-2017)\n",
    "test['month'] = test['date'].apply(lambda x: x.month)\n",
    "test['day'] = test['date'].apply(lambda x: x.day)\n",
    "test['day_of_week'] = test['date'].apply(lambda x: x.dayofweek)\n",
    "# test['is_quarter_date'] = test['date'].apply(lambda x: x.quarter)\n",
    "test['is_weekend'] = test['day_of_week'].apply(lambda x: 1 if x>4 else 0)\n",
    "\n",
    "test.drop(['date'], axis=1, inplace=True)"
   ]
  },
  {
   "cell_type": "code",
   "execution_count": 12,
   "metadata": {
    "execution": {
     "iopub.execute_input": "2022-04-24T12:29:24.495837Z",
     "iopub.status.busy": "2022-04-24T12:29:24.495194Z",
     "iopub.status.idle": "2022-04-24T12:29:24.530747Z",
     "shell.execute_reply": "2022-04-24T12:29:24.530103Z",
     "shell.execute_reply.started": "2022-04-24T12:29:24.495795Z"
    }
   },
   "outputs": [],
   "source": [
    "#creating function to identify time of day: morning, afternoon, evening, night, etc.\n",
    "def time_of_day(n):\n",
    "    if n in range(4,8):\n",
    "        return 'Early Morning'\n",
    "    elif n in range(8,12):\n",
    "        return 'Morning'\n",
    "    elif n in range(12,18):\n",
    "        return 'Afternoon'\n",
    "    elif n in range(18,21):\n",
    "        return 'Evening'\n",
    "    elif n in range(21,25) or n==0:\n",
    "        return 'Night'\n",
    "    elif n in range(1,4):\n",
    "        return 'Late Night'\n",
    "    \n",
    "df['Type_of_Day'] = df['hour'].apply(lambda x: time_of_day(x))"
   ]
  },
  {
   "cell_type": "code",
   "execution_count": 13,
   "metadata": {
    "execution": {
     "iopub.execute_input": "2022-04-24T12:29:26.487211Z",
     "iopub.status.busy": "2022-04-24T12:29:26.486751Z",
     "iopub.status.idle": "2022-04-24T12:29:26.504556Z",
     "shell.execute_reply": "2022-04-24T12:29:26.503391Z",
     "shell.execute_reply.started": "2022-04-24T12:29:26.487161Z"
    }
   },
   "outputs": [],
   "source": [
    "test['Type_of_Day'] = test['hour'].apply(lambda x: time_of_day(x))"
   ]
  },
  {
   "cell_type": "code",
   "execution_count": 14,
   "metadata": {
    "execution": {
     "iopub.execute_input": "2022-04-24T12:29:27.349708Z",
     "iopub.status.busy": "2022-04-24T12:29:27.349403Z",
     "iopub.status.idle": "2022-04-24T12:29:27.364221Z",
     "shell.execute_reply": "2022-04-24T12:29:27.363352Z",
     "shell.execute_reply.started": "2022-04-24T12:29:27.349672Z"
    }
   },
   "outputs": [],
   "source": [
    "def month2seasons(x):\n",
    "    if x in [9, 10, 11]:\n",
    "        season = 'Spring'\n",
    "    elif x in [12, 1, 2]:\n",
    "        season = 'Summer'\n",
    "    elif x in [3, 4, 5]:\n",
    "        season = 'Autumn'\n",
    "    elif x in [6, 7, 8]:\n",
    "        season = 'Winter'\n",
    "    return season\n",
    "\n",
    "df['Season'] = df['month'].apply(month2seasons)"
   ]
  },
  {
   "cell_type": "code",
   "execution_count": 15,
   "metadata": {
    "execution": {
     "iopub.execute_input": "2022-04-24T12:29:29.117103Z",
     "iopub.status.busy": "2022-04-24T12:29:29.116503Z",
     "iopub.status.idle": "2022-04-24T12:29:29.125741Z",
     "shell.execute_reply": "2022-04-24T12:29:29.124955Z",
     "shell.execute_reply.started": "2022-04-24T12:29:29.117065Z"
    }
   },
   "outputs": [],
   "source": [
    "test['Season'] = test['month'].apply(month2seasons)"
   ]
  },
  {
   "cell_type": "code",
   "execution_count": 16,
   "metadata": {
    "execution": {
     "iopub.execute_input": "2022-04-24T12:29:29.801150Z",
     "iopub.status.busy": "2022-04-24T12:29:29.800834Z",
     "iopub.status.idle": "2022-04-24T12:29:29.840674Z",
     "shell.execute_reply": "2022-04-24T12:29:29.839946Z",
     "shell.execute_reply.started": "2022-04-24T12:29:29.801118Z"
    }
   },
   "outputs": [],
   "source": [
    "df['Type_of_Day'].replace({'Afternoon': 0, 'Morning' : 1, 'Night':2, 'Evening':3, 'Early Morning':4, 'Late Night':5}, \n",
    "                          inplace=True)\n",
    "df['Season'].replace({'Spring':0, 'Summer':1, 'Autumn':2, 'Winter':3}, inplace=True)"
   ]
  },
  {
   "cell_type": "code",
   "execution_count": 17,
   "metadata": {
    "execution": {
     "iopub.execute_input": "2022-04-24T12:29:31.543943Z",
     "iopub.status.busy": "2022-04-24T12:29:31.543520Z",
     "iopub.status.idle": "2022-04-24T12:29:31.567279Z",
     "shell.execute_reply": "2022-04-24T12:29:31.566233Z",
     "shell.execute_reply.started": "2022-04-24T12:29:31.543906Z"
    }
   },
   "outputs": [],
   "source": [
    "test['Type_of_Day'].replace({'Afternoon': 0, 'Morning' : 1, 'Night':2, 'Evening':3, 'Early Morning':4, 'Late Night':5}, \n",
    "                          inplace=True)\n",
    "test['Season'].replace({'Spring':0, 'Summer':1, 'Autumn':2, 'Winter':3}, inplace=True)"
   ]
  },
  {
   "cell_type": "code",
   "execution_count": 18,
   "metadata": {
    "execution": {
     "iopub.execute_input": "2022-04-24T12:29:32.546598Z",
     "iopub.status.busy": "2022-04-24T12:29:32.545565Z",
     "iopub.status.idle": "2022-04-24T12:29:33.894756Z",
     "shell.execute_reply": "2022-04-24T12:29:33.893850Z",
     "shell.execute_reply.started": "2022-04-24T12:29:32.546552Z"
    }
   },
   "outputs": [
    {
     "data": {
      "text/plain": [
       "<AxesSubplot:xlabel='hour', ylabel='demand'>"
      ]
     },
     "execution_count": 18,
     "metadata": {},
     "output_type": "execute_result"
    },
    {
     "data": {
      "image/png": "[encoded data removed]",
      "text/plain": [
       "<Figure size 720x576 with 1 Axes>"
      ]
     },
     "metadata": {
      "needs_background": "light"
     },
     "output_type": "display_data"
    }
   ],
   "source": [
    "plt.figure(figsize=(10,8))\n",
    "sns.barplot(x=df['hour'], y=df['demand'])"
   ]
  },
  {
   "cell_type": "code",
   "execution_count": 19,
   "metadata": {
    "execution": {
     "iopub.execute_input": "2022-04-24T12:29:34.438126Z",
     "iopub.status.busy": "2022-04-24T12:29:34.437693Z",
     "iopub.status.idle": "2022-04-24T12:29:34.447420Z",
     "shell.execute_reply": "2022-04-24T12:29:34.446255Z",
     "shell.execute_reply.started": "2022-04-24T12:29:34.438088Z"
    }
   },
   "outputs": [],
   "source": [
    "#split df into X & y\n",
    "y = df['demand'].copy()\n",
    "X = df.drop('demand', axis=1).copy()"
   ]
  },
  {
   "cell_type": "code",
   "execution_count": 20,
   "metadata": {
    "execution": {
     "iopub.execute_input": "2022-04-24T12:29:35.494643Z",
     "iopub.status.busy": "2022-04-24T12:29:35.494282Z",
     "iopub.status.idle": "2022-04-24T12:29:35.515202Z",
     "shell.execute_reply": "2022-04-24T12:29:35.514016Z",
     "shell.execute_reply.started": "2022-04-24T12:29:35.494598Z"
    }
   },
   "outputs": [],
   "source": [
    "# Feature engineering of hour of month like cyclical feature & days in week feature\n",
    "X['hour_sin'] = np.sin(X['hour']*(2.*np.pi/24))\n",
    "X['hour_cos'] = np.cos(X['hour']*(2.*np.pi/24))\n",
    "X['month_sin'] = np.sin((X['month']-1)*(2.*np.pi/12))\n",
    "X['month_cos'] = np.cos((X['month']-1)*(2.*np.pi/12))\n",
    "\n",
    "X['day_of_week'] = np.cos(X['day_of_week'])\n",
    "\n",
    "X.drop(['hour', 'month'], axis=1, inplace=True)"
   ]
  },
  {
   "cell_type": "code",
   "execution_count": 21,
   "metadata": {
    "execution": {
     "iopub.execute_input": "2022-04-24T12:29:36.413645Z",
     "iopub.status.busy": "2022-04-24T12:29:36.413251Z",
     "iopub.status.idle": "2022-04-24T12:29:36.434646Z",
     "shell.execute_reply": "2022-04-24T12:29:36.433671Z",
     "shell.execute_reply.started": "2022-04-24T12:29:36.413607Z"
    }
   },
   "outputs": [],
   "source": [
    "# Feature engineering of hour of month like cyclical feature & days in week feature\n",
    "test['hour_sin'] = np.sin(test['hour']*(2.*np.pi/24))\n",
    "test['hour_cos'] = np.cos(test['hour']*(2.*np.pi/24))\n",
    "test['month_sin'] = np.sin((test['month']-1)*(2.*np.pi/12))\n",
    "test['month_cos'] = np.cos((test['month']-1)*(2.*np.pi/12))\n",
    "\n",
    "test['day_of_week'] = np.cos(test['day_of_week'])\n",
    "\n",
    "test.drop(['hour', 'month'], axis=1, inplace=True)"
   ]
  },
  {
   "cell_type": "code",
   "execution_count": 22,
   "metadata": {
    "execution": {
     "iopub.execute_input": "2022-04-24T12:29:38.879356Z",
     "iopub.status.busy": "2022-04-24T12:29:38.878411Z",
     "iopub.status.idle": "2022-04-24T12:29:38.903613Z",
     "shell.execute_reply": "2022-04-24T12:29:38.902801Z",
     "shell.execute_reply.started": "2022-04-24T12:29:38.879308Z"
    }
   },
   "outputs": [
    {
     "data": {
      "text/html": [
       "<div>\n",
       "<style scoped>\n",
       "    .dataframe tbody tr th:only-of-type {\n",
       "        vertical-align: middle;\n",
       "    }\n",
       "\n",
       "    .dataframe tbody tr th {\n",
       "        vertical-align: top;\n",
       "    }\n",
       "\n",
       "    .dataframe thead th {\n",
       "        text-align: right;\n",
       "    }\n",
       "</style>\n",
       "<table border=\"1\" class=\"dataframe\">\n",
       "  <thead>\n",
       "    <tr style=\"text-align: right;\">\n",
       "      <th></th>\n",
       "      <th>year</th>\n",
       "      <th>day</th>\n",
       "      <th>day_of_week</th>\n",
       "      <th>is_quarter_date</th>\n",
       "      <th>is_weekend</th>\n",
       "      <th>Type_of_Day</th>\n",
       "      <th>Season</th>\n",
       "      <th>hour_sin</th>\n",
       "      <th>hour_cos</th>\n",
       "      <th>month_sin</th>\n",
       "      <th>month_cos</th>\n",
       "    </tr>\n",
       "  </thead>\n",
       "  <tbody>\n",
       "    <tr>\n",
       "      <th>0</th>\n",
       "      <td>2018</td>\n",
       "      <td>18</td>\n",
       "      <td>0.283662</td>\n",
       "      <td>3</td>\n",
       "      <td>1</td>\n",
       "      <td>1</td>\n",
       "      <td>3</td>\n",
       "      <td>0.707107</td>\n",
       "      <td>-0.707107</td>\n",
       "      <td>-0.5</td>\n",
       "      <td>-0.866025</td>\n",
       "    </tr>\n",
       "    <tr>\n",
       "      <th>1</th>\n",
       "      <td>2018</td>\n",
       "      <td>18</td>\n",
       "      <td>0.283662</td>\n",
       "      <td>3</td>\n",
       "      <td>1</td>\n",
       "      <td>1</td>\n",
       "      <td>3</td>\n",
       "      <td>0.500000</td>\n",
       "      <td>-0.866025</td>\n",
       "      <td>-0.5</td>\n",
       "      <td>-0.866025</td>\n",
       "    </tr>\n",
       "    <tr>\n",
       "      <th>2</th>\n",
       "      <td>2018</td>\n",
       "      <td>18</td>\n",
       "      <td>0.283662</td>\n",
       "      <td>3</td>\n",
       "      <td>1</td>\n",
       "      <td>0</td>\n",
       "      <td>3</td>\n",
       "      <td>-0.258819</td>\n",
       "      <td>-0.965926</td>\n",
       "      <td>-0.5</td>\n",
       "      <td>-0.866025</td>\n",
       "    </tr>\n",
       "    <tr>\n",
       "      <th>3</th>\n",
       "      <td>2018</td>\n",
       "      <td>18</td>\n",
       "      <td>0.283662</td>\n",
       "      <td>3</td>\n",
       "      <td>1</td>\n",
       "      <td>0</td>\n",
       "      <td>3</td>\n",
       "      <td>-0.500000</td>\n",
       "      <td>-0.866025</td>\n",
       "      <td>-0.5</td>\n",
       "      <td>-0.866025</td>\n",
       "    </tr>\n",
       "    <tr>\n",
       "      <th>4</th>\n",
       "      <td>2018</td>\n",
       "      <td>18</td>\n",
       "      <td>0.283662</td>\n",
       "      <td>3</td>\n",
       "      <td>1</td>\n",
       "      <td>0</td>\n",
       "      <td>3</td>\n",
       "      <td>-0.707107</td>\n",
       "      <td>-0.707107</td>\n",
       "      <td>-0.5</td>\n",
       "      <td>-0.866025</td>\n",
       "    </tr>\n",
       "    <tr>\n",
       "      <th>...</th>\n",
       "      <td>...</td>\n",
       "      <td>...</td>\n",
       "      <td>...</td>\n",
       "      <td>...</td>\n",
       "      <td>...</td>\n",
       "      <td>...</td>\n",
       "      <td>...</td>\n",
       "      <td>...</td>\n",
       "      <td>...</td>\n",
       "      <td>...</td>\n",
       "      <td>...</td>\n",
       "    </tr>\n",
       "    <tr>\n",
       "      <th>18242</th>\n",
       "      <td>2021</td>\n",
       "      <td>28</td>\n",
       "      <td>0.960170</td>\n",
       "      <td>1</td>\n",
       "      <td>1</td>\n",
       "      <td>3</td>\n",
       "      <td>1</td>\n",
       "      <td>-0.965926</td>\n",
       "      <td>0.258819</td>\n",
       "      <td>0.5</td>\n",
       "      <td>0.866025</td>\n",
       "    </tr>\n",
       "    <tr>\n",
       "      <th>18243</th>\n",
       "      <td>2021</td>\n",
       "      <td>28</td>\n",
       "      <td>0.960170</td>\n",
       "      <td>1</td>\n",
       "      <td>1</td>\n",
       "      <td>3</td>\n",
       "      <td>1</td>\n",
       "      <td>-0.866025</td>\n",
       "      <td>0.500000</td>\n",
       "      <td>0.5</td>\n",
       "      <td>0.866025</td>\n",
       "    </tr>\n",
       "    <tr>\n",
       "      <th>18244</th>\n",
       "      <td>2021</td>\n",
       "      <td>28</td>\n",
       "      <td>0.960170</td>\n",
       "      <td>1</td>\n",
       "      <td>1</td>\n",
       "      <td>2</td>\n",
       "      <td>1</td>\n",
       "      <td>-0.707107</td>\n",
       "      <td>0.707107</td>\n",
       "      <td>0.5</td>\n",
       "      <td>0.866025</td>\n",
       "    </tr>\n",
       "    <tr>\n",
       "      <th>18245</th>\n",
       "      <td>2021</td>\n",
       "      <td>28</td>\n",
       "      <td>0.960170</td>\n",
       "      <td>1</td>\n",
       "      <td>1</td>\n",
       "      <td>2</td>\n",
       "      <td>1</td>\n",
       "      <td>-0.500000</td>\n",
       "      <td>0.866025</td>\n",
       "      <td>0.5</td>\n",
       "      <td>0.866025</td>\n",
       "    </tr>\n",
       "    <tr>\n",
       "      <th>18246</th>\n",
       "      <td>2021</td>\n",
       "      <td>28</td>\n",
       "      <td>0.960170</td>\n",
       "      <td>1</td>\n",
       "      <td>1</td>\n",
       "      <td>2</td>\n",
       "      <td>1</td>\n",
       "      <td>-0.258819</td>\n",
       "      <td>0.965926</td>\n",
       "      <td>0.5</td>\n",
       "      <td>0.866025</td>\n",
       "    </tr>\n",
       "  </tbody>\n",
       "</table>\n",
       "<p>18247 rows × 11 columns</p>\n",
       "</div>"
      ],
      "text/plain": [
       "       year  day  day_of_week  is_quarter_date  is_weekend  Type_of_Day  \\\n",
       "0      2018   18     0.283662                3           1            1   \n",
       "1      2018   18     0.283662                3           1            1   \n",
       "2      2018   18     0.283662                3           1            0   \n",
       "3      2018   18     0.283662                3           1            0   \n",
       "4      2018   18     0.283662                3           1            0   \n",
       "...     ...  ...          ...              ...         ...          ...   \n",
       "18242  2021   28     0.960170                1           1            3   \n",
       "18243  2021   28     0.960170                1           1            3   \n",
       "18244  2021   28     0.960170                1           1            2   \n",
       "18245  2021   28     0.960170                1           1            2   \n",
       "18246  2021   28     0.960170                1           1            2   \n",
       "\n",
       "       Season  hour_sin  hour_cos  month_sin  month_cos  \n",
       "0           3  0.707107 -0.707107       -0.5  -0.866025  \n",
       "1           3  0.500000 -0.866025       -0.5  -0.866025  \n",
       "2           3 -0.258819 -0.965926       -0.5  -0.866025  \n",
       "3           3 -0.500000 -0.866025       -0.5  -0.866025  \n",
       "4           3 -0.707107 -0.707107       -0.5  -0.866025  \n",
       "...       ...       ...       ...        ...        ...  \n",
       "18242       1 -0.965926  0.258819        0.5   0.866025  \n",
       "18243       1 -0.866025  0.500000        0.5   0.866025  \n",
       "18244       1 -0.707107  0.707107        0.5   0.866025  \n",
       "18245       1 -0.500000  0.866025        0.5   0.866025  \n",
       "18246       1 -0.258819  0.965926        0.5   0.866025  \n",
       "\n",
       "[18247 rows x 11 columns]"
      ]
     },
     "execution_count": 22,
     "metadata": {},
     "output_type": "execute_result"
    }
   ],
   "source": [
    "X"
   ]
  },
  {
   "cell_type": "code",
   "execution_count": 23,
   "metadata": {
    "execution": {
     "iopub.execute_input": "2022-04-24T12:29:42.176144Z",
     "iopub.status.busy": "2022-04-24T12:29:42.175609Z",
     "iopub.status.idle": "2022-04-24T12:29:42.391935Z",
     "shell.execute_reply": "2022-04-24T12:29:42.391099Z",
     "shell.execute_reply.started": "2022-04-24T12:29:42.176100Z"
    }
   },
   "outputs": [
    {
     "data": {
      "text/html": [
       "<div>\n",
       "<style scoped>\n",
       "    .dataframe tbody tr th:only-of-type {\n",
       "        vertical-align: middle;\n",
       "    }\n",
       "\n",
       "    .dataframe tbody tr th {\n",
       "        vertical-align: top;\n",
       "    }\n",
       "\n",
       "    .dataframe thead th {\n",
       "        text-align: right;\n",
       "    }\n",
       "</style>\n",
       "<table border=\"1\" class=\"dataframe\">\n",
       "  <thead>\n",
       "    <tr style=\"text-align: right;\">\n",
       "      <th></th>\n",
       "      <th>VIF</th>\n",
       "      <th>Columns</th>\n",
       "    </tr>\n",
       "  </thead>\n",
       "  <tbody>\n",
       "    <tr>\n",
       "      <th>0</th>\n",
       "      <td>28.428392</td>\n",
       "      <td>year</td>\n",
       "    </tr>\n",
       "    <tr>\n",
       "      <th>3</th>\n",
       "      <td>17.245147</td>\n",
       "      <td>is_quarter_date</td>\n",
       "    </tr>\n",
       "    <tr>\n",
       "      <th>6</th>\n",
       "      <td>7.561064</td>\n",
       "      <td>Season</td>\n",
       "    </tr>\n",
       "    <tr>\n",
       "      <th>5</th>\n",
       "      <td>6.543576</td>\n",
       "      <td>Type_of_Day</td>\n",
       "    </tr>\n",
       "    <tr>\n",
       "      <th>1</th>\n",
       "      <td>4.246286</td>\n",
       "      <td>day</td>\n",
       "    </tr>\n",
       "    <tr>\n",
       "      <th>9</th>\n",
       "      <td>4.017243</td>\n",
       "      <td>month_sin</td>\n",
       "    </tr>\n",
       "    <tr>\n",
       "      <th>8</th>\n",
       "      <td>2.621548</td>\n",
       "      <td>hour_cos</td>\n",
       "    </tr>\n",
       "    <tr>\n",
       "      <th>10</th>\n",
       "      <td>2.144093</td>\n",
       "      <td>month_cos</td>\n",
       "    </tr>\n",
       "    <tr>\n",
       "      <th>4</th>\n",
       "      <td>1.768265</td>\n",
       "      <td>is_weekend</td>\n",
       "    </tr>\n",
       "    <tr>\n",
       "      <th>7</th>\n",
       "      <td>1.561065</td>\n",
       "      <td>hour_sin</td>\n",
       "    </tr>\n",
       "    <tr>\n",
       "      <th>2</th>\n",
       "      <td>1.278751</td>\n",
       "      <td>day_of_week</td>\n",
       "    </tr>\n",
       "  </tbody>\n",
       "</table>\n",
       "</div>"
      ],
      "text/plain": [
       "          VIF          Columns\n",
       "0   28.428392             year\n",
       "3   17.245147  is_quarter_date\n",
       "6    7.561064           Season\n",
       "5    6.543576      Type_of_Day\n",
       "1    4.246286              day\n",
       "9    4.017243        month_sin\n",
       "8    2.621548         hour_cos\n",
       "10   2.144093        month_cos\n",
       "4    1.768265       is_weekend\n",
       "7    1.561065         hour_sin\n",
       "2    1.278751      day_of_week"
      ]
     },
     "execution_count": 23,
     "metadata": {},
     "output_type": "execute_result"
    }
   ],
   "source": [
    "vif_info = pd.DataFrame()\n",
    "vif_info['VIF'] = [variance_inflation_factor(X.values, i) for i in range(X.shape[1])]\n",
    "vif_info['Columns'] = X.columns\n",
    "vif_info.sort_values('VIF', ascending=False)"
   ]
  },
  {
   "cell_type": "code",
   "execution_count": 24,
   "metadata": {
    "execution": {
     "iopub.execute_input": "2022-04-24T12:29:43.587649Z",
     "iopub.status.busy": "2022-04-24T12:29:43.586626Z",
     "iopub.status.idle": "2022-04-24T12:29:43.594042Z",
     "shell.execute_reply": "2022-04-24T12:29:43.592935Z",
     "shell.execute_reply.started": "2022-04-24T12:29:43.587598Z"
    }
   },
   "outputs": [],
   "source": [
    "X.drop(['year', 'is_quarter_date'], axis=1, inplace=True)"
   ]
  },
  {
   "cell_type": "code",
   "execution_count": 25,
   "metadata": {
    "execution": {
     "iopub.execute_input": "2022-04-24T12:29:44.750105Z",
     "iopub.status.busy": "2022-04-24T12:29:44.749399Z",
     "iopub.status.idle": "2022-04-24T12:29:44.894686Z",
     "shell.execute_reply": "2022-04-24T12:29:44.893783Z",
     "shell.execute_reply.started": "2022-04-24T12:29:44.750060Z"
    }
   },
   "outputs": [
    {
     "data": {
      "text/html": [
       "<div>\n",
       "<style scoped>\n",
       "    .dataframe tbody tr th:only-of-type {\n",
       "        vertical-align: middle;\n",
       "    }\n",
       "\n",
       "    .dataframe tbody tr th {\n",
       "        vertical-align: top;\n",
       "    }\n",
       "\n",
       "    .dataframe thead th {\n",
       "        text-align: right;\n",
       "    }\n",
       "</style>\n",
       "<table border=\"1\" class=\"dataframe\">\n",
       "  <thead>\n",
       "    <tr style=\"text-align: right;\">\n",
       "      <th></th>\n",
       "      <th>VIF</th>\n",
       "      <th>Columns</th>\n",
       "    </tr>\n",
       "  </thead>\n",
       "  <tbody>\n",
       "    <tr>\n",
       "      <th>4</th>\n",
       "      <td>4.944764</td>\n",
       "      <td>Season</td>\n",
       "    </tr>\n",
       "    <tr>\n",
       "      <th>3</th>\n",
       "      <td>4.397171</td>\n",
       "      <td>Type_of_Day</td>\n",
       "    </tr>\n",
       "    <tr>\n",
       "      <th>0</th>\n",
       "      <td>3.388727</td>\n",
       "      <td>day</td>\n",
       "    </tr>\n",
       "    <tr>\n",
       "      <th>6</th>\n",
       "      <td>2.023782</td>\n",
       "      <td>hour_cos</td>\n",
       "    </tr>\n",
       "    <tr>\n",
       "      <th>7</th>\n",
       "      <td>1.747674</td>\n",
       "      <td>month_sin</td>\n",
       "    </tr>\n",
       "    <tr>\n",
       "      <th>2</th>\n",
       "      <td>1.715188</td>\n",
       "      <td>is_weekend</td>\n",
       "    </tr>\n",
       "    <tr>\n",
       "      <th>8</th>\n",
       "      <td>1.591735</td>\n",
       "      <td>month_cos</td>\n",
       "    </tr>\n",
       "    <tr>\n",
       "      <th>5</th>\n",
       "      <td>1.351519</td>\n",
       "      <td>hour_sin</td>\n",
       "    </tr>\n",
       "    <tr>\n",
       "      <th>1</th>\n",
       "      <td>1.275900</td>\n",
       "      <td>day_of_week</td>\n",
       "    </tr>\n",
       "  </tbody>\n",
       "</table>\n",
       "</div>"
      ],
      "text/plain": [
       "        VIF      Columns\n",
       "4  4.944764       Season\n",
       "3  4.397171  Type_of_Day\n",
       "0  3.388727          day\n",
       "6  2.023782     hour_cos\n",
       "7  1.747674    month_sin\n",
       "2  1.715188   is_weekend\n",
       "8  1.591735    month_cos\n",
       "5  1.351519     hour_sin\n",
       "1  1.275900  day_of_week"
      ]
     },
     "execution_count": 25,
     "metadata": {},
     "output_type": "execute_result"
    }
   ],
   "source": [
    "vif_info_afterdrop = pd.DataFrame()\n",
    "vif_info_afterdrop['VIF'] = [variance_inflation_factor(X.values, i) for i in range(X.shape[1])]\n",
    "vif_info_afterdrop['Columns'] = X.columns\n",
    "vif_info_afterdrop.sort_values('VIF', ascending=False)"
   ]
  },
  {
   "cell_type": "code",
   "execution_count": 26,
   "metadata": {
    "execution": {
     "iopub.execute_input": "2022-04-24T12:29:48.600896Z",
     "iopub.status.busy": "2022-04-24T12:29:48.600573Z",
     "iopub.status.idle": "2022-04-24T12:29:48.608572Z",
     "shell.execute_reply": "2022-04-24T12:29:48.607688Z",
     "shell.execute_reply.started": "2022-04-24T12:29:48.600843Z"
    }
   },
   "outputs": [
    {
     "data": {
      "text/html": [
       "<style type='text/css'>\n",
       ".datatable table.frame { margin-bottom: 0; }\n",
       ".datatable table.frame thead { border-bottom: none; }\n",
       ".datatable table.frame tr.coltypes td {  color: #FFFFFF;  line-height: 6px;  padding: 0 0.5em;}\n",
       ".datatable .bool    { background: #DDDD99; }\n",
       ".datatable .object  { background: #565656; }\n",
       ".datatable .int     { background: #5D9E5D; }\n",
       ".datatable .float   { background: #4040CC; }\n",
       ".datatable .str     { background: #CC4040; }\n",
       ".datatable .time    { background: #40CC40; }\n",
       ".datatable .row_index {  background: var(--jp-border-color3);  border-right: 1px solid var(--jp-border-color0);  color: var(--jp-ui-font-color3);  font-size: 9px;}\n",
       ".datatable .frame tbody td { text-align: left; }\n",
       ".datatable .frame tr.coltypes .row_index {  background: var(--jp-border-color0);}\n",
       ".datatable th:nth-child(2) { padding-left: 12px; }\n",
       ".datatable .hellipsis {  color: var(--jp-cell-editor-border-color);}\n",
       ".datatable .vellipsis {  background: var(--jp-layout-color0);  color: var(--jp-cell-editor-border-color);}\n",
       ".datatable .na {  color: var(--jp-cell-editor-border-color);  font-size: 80%;}\n",
       ".datatable .sp {  opacity: 0.25;}\n",
       ".datatable .footer { font-size: 9px; }\n",
       ".datatable .frame_dimensions {  background: var(--jp-border-color3);  border-top: 1px solid var(--jp-border-color0);  color: var(--jp-ui-font-color3);  display: inline-block;  opacity: 0.6;  padding: 1px 10px 1px 5px;}\n",
       "</style>\n"
      ],
      "text/plain": [
       "<IPython.core.display.HTML object>"
      ]
     },
     "metadata": {},
     "output_type": "display_data"
    }
   ],
   "source": [
    "from sklearn.model_selection import train_test_split\n",
    "from sklearn.preprocessing import StandardScaler\n",
    "from sklearn.preprocessing import LabelEncoder\n",
    "\n",
    "from sklearn.metrics import mean_squared_error as mse\n",
    "from sklearn.metrics import r2_score as r2\n",
    "\n",
    "from sklearn.linear_model import Ridge\n",
    "from sklearn.neural_network import MLPRegressor\n",
    "from sklearn.ensemble import RandomForestRegressor\n",
    "from catboost import CatBoostRegressor\n",
    "from xgboost import XGBRegressor, XGBRFRegressor\n",
    "from sklearn.linear_model import Lasso, LinearRegression\n",
    "from lightgbm import LGBMRegressor"
   ]
  },
  {
   "cell_type": "code",
   "execution_count": 27,
   "metadata": {
    "execution": {
     "iopub.execute_input": "2022-04-24T12:29:52.049335Z",
     "iopub.status.busy": "2022-04-24T12:29:52.049029Z",
     "iopub.status.idle": "2022-04-24T12:29:52.056761Z",
     "shell.execute_reply": "2022-04-24T12:29:52.055817Z",
     "shell.execute_reply.started": "2022-04-24T12:29:52.049301Z"
    }
   },
   "outputs": [
    {
     "data": {
      "text/plain": [
       "array([[18.        ,  0.28366219,  1.        , ..., -0.70710678,\n",
       "        -0.5       , -0.8660254 ],\n",
       "       [18.        ,  0.28366219,  1.        , ..., -0.8660254 ,\n",
       "        -0.5       , -0.8660254 ],\n",
       "       [18.        ,  0.28366219,  1.        , ..., -0.96592583,\n",
       "        -0.5       , -0.8660254 ],\n",
       "       ...,\n",
       "       [28.        ,  0.96017029,  1.        , ...,  0.70710678,\n",
       "         0.5       ,  0.8660254 ],\n",
       "       [28.        ,  0.96017029,  1.        , ...,  0.8660254 ,\n",
       "         0.5       ,  0.8660254 ],\n",
       "       [28.        ,  0.96017029,  1.        , ...,  0.96592583,\n",
       "         0.5       ,  0.8660254 ]])"
      ]
     },
     "execution_count": 27,
     "metadata": {},
     "output_type": "execute_result"
    }
   ],
   "source": [
    "X.values"
   ]
  },
  {
   "cell_type": "code",
   "execution_count": 28,
   "metadata": {
    "execution": {
     "iopub.execute_input": "2022-04-24T12:30:16.400557Z",
     "iopub.status.busy": "2022-04-24T12:30:16.400127Z",
     "iopub.status.idle": "2022-04-24T12:30:16.409274Z",
     "shell.execute_reply": "2022-04-24T12:30:16.407992Z",
     "shell.execute_reply.started": "2022-04-24T12:30:16.400518Z"
    }
   },
   "outputs": [
    {
     "data": {
      "text/plain": [
       "0       -345.023268\n",
       "1       -415.023268\n",
       "2       -413.023268\n",
       "3       -332.023268\n",
       "4       -355.023268\n",
       "            ...    \n",
       "18242   -341.023268\n",
       "18243   -348.023268\n",
       "18244   -397.023268\n",
       "18245   -332.023268\n",
       "18246   -351.023268\n",
       "Name: demand, Length: 18247, dtype: float64"
      ]
     },
     "execution_count": 28,
     "metadata": {},
     "output_type": "execute_result"
    }
   ],
   "source": [
    "y = y - z\n",
    "y"
   ]
  },
  {
   "cell_type": "code",
   "execution_count": 92,
   "metadata": {
    "execution": {
     "iopub.execute_input": "2022-04-24T11:17:32.963488Z",
     "iopub.status.busy": "2022-04-24T11:17:32.963204Z",
     "iopub.status.idle": "2022-04-24T11:17:32.969063Z",
     "shell.execute_reply": "2022-04-24T11:17:32.967956Z",
     "shell.execute_reply.started": "2022-04-24T11:17:32.963460Z"
    }
   },
   "outputs": [],
   "source": [
    "le = LabelEncoder()\n",
    "encoded_y = le.fit_transform(y)"
   ]
  },
  {
   "cell_type": "code",
   "execution_count": 29,
   "metadata": {
    "execution": {
     "iopub.execute_input": "2022-04-24T12:30:27.697899Z",
     "iopub.status.busy": "2022-04-24T12:30:27.697370Z",
     "iopub.status.idle": "2022-04-24T12:30:27.705855Z",
     "shell.execute_reply": "2022-04-24T12:30:27.705154Z",
     "shell.execute_reply.started": "2022-04-24T12:30:27.697833Z"
    }
   },
   "outputs": [],
   "source": [
    "X_train, X_test, y_train, y_test = train_test_split(X.values, y, train_size=0.7, random_state=42)"
   ]
  },
  {
   "cell_type": "code",
   "execution_count": 30,
   "metadata": {
    "execution": {
     "iopub.execute_input": "2022-04-24T12:30:29.859418Z",
     "iopub.status.busy": "2022-04-24T12:30:29.858964Z",
     "iopub.status.idle": "2022-04-24T12:30:55.360275Z",
     "shell.execute_reply": "2022-04-24T12:30:55.359559Z",
     "shell.execute_reply.started": "2022-04-24T12:30:29.859368Z"
    }
   },
   "outputs": [
    {
     "name": "stdout",
     "output_type": "stream",
     "text": [
      "Linear Regression(Ridge) trained.\n"
     ]
    },
    {
     "name": "stderr",
     "output_type": "stream",
     "text": [
      "C:\\Users\\Admin\\AppData\\Roaming\\Python\\Python38\\site-packages\\sklearn\\neural_network\\_multilayer_perceptron.py:582: ConvergenceWarning: Stochastic Optimizer: Maximum iterations (200) reached and the optimization hasn't converged yet.\n",
      "  warnings.warn(\n"
     ]
    },
    {
     "name": "stdout",
     "output_type": "stream",
     "text": [
      "          Neural Network trained.\n",
      "           Random Forest trained.\n",
      "                Catboost trained.\n",
      "       XGBoost Regressor trained.\n",
      "    XGBoost RF Regressor trained.\n",
      "Linear Regression(lasso) trained.\n",
      "       Linear Regression trained.\n",
      " Light Gradient Boosting trained.\n"
     ]
    }
   ],
   "source": [
    "models = {\n",
    "    'Linear Regression(Ridge)' : Ridge(),\n",
    "    '          Neural Network' : MLPRegressor(),\n",
    "    '           Random Forest' : RandomForestRegressor(),\n",
    "    '                Catboost' : CatBoostRegressor(verbose=0),\n",
    "    '       XGBoost Regressor' : XGBRegressor(),\n",
    "    '    XGBoost RF Regressor' : XGBRFRegressor(),\n",
    "    'Linear Regression(lasso)' : Lasso(),\n",
    "    '       Linear Regression' : LinearRegression(),\n",
    "    ' Light Gradient Boosting' : LGBMRegressor()\n",
    "}\n",
    "\n",
    "for name, model in models.items():\n",
    "    model.fit(X_train, y_train)\n",
    "    print(name + ' trained.')"
   ]
  },
  {
   "cell_type": "code",
   "execution_count": 31,
   "metadata": {
    "execution": {
     "iopub.execute_input": "2022-04-24T12:30:55.366516Z",
     "iopub.status.busy": "2022-04-24T12:30:55.364571Z",
     "iopub.status.idle": "2022-04-24T12:30:55.373676Z",
     "shell.execute_reply": "2022-04-24T12:30:55.372743Z",
     "shell.execute_reply.started": "2022-04-24T12:30:55.366472Z"
    }
   },
   "outputs": [],
   "source": [
    "def get_rmse(y_true, y_pred):\n",
    "    rmse = np.sqrt(np.mean((y_test - y_pred)**2))\n",
    "    return rmse\n",
    "\n",
    "def get_r2(y_test, y_pred):\n",
    "    r2 = 1 - (np.sum((y_test - y_pred)**2) / np.sum((y_test - y_test.mean())**2))\n",
    "    return r2"
   ]
  },
  {
   "cell_type": "code",
   "execution_count": 32,
   "metadata": {
    "execution": {
     "iopub.execute_input": "2022-04-24T11:18:08.218756Z",
     "iopub.status.busy": "2022-04-24T11:18:08.217958Z",
     "iopub.status.idle": "2022-04-24T11:18:08.554831Z",
     "shell.execute_reply": "2022-04-24T11:18:08.553690Z",
     "shell.execute_reply.started": "2022-04-24T11:18:08.218695Z"
    }
   },
   "outputs": [
    {
     "name": "stdout",
     "output_type": "stream",
     "text": [
      "Linear Regression(Ridge) RMSE: 37.84\n",
      "          Neural Network RMSE: 36.63\n",
      "           Random Forest RMSE: 34.83\n",
      "                Catboost RMSE: 33.39\n",
      "       XGBoost Regressor RMSE: 34.06\n",
      "    XGBoost RF Regressor RMSE: 35.08\n",
      "Linear Regression(lasso) RMSE: 38.08\n",
      "       Linear Regression RMSE: 37.84\n",
      " Light Gradient Boosting RMSE: 33.07\n"
     ]
    }
   ],
   "source": [
    "for name, model in models.items():\n",
    "    y_pred = model.predict(X_test)\n",
    "    rmse = get_rmse(y_test, y_pred)\n",
    "    print(name + ' RMSE: {:.2f}'.format(rmse))"
   ]
  },
  {
   "cell_type": "code",
   "execution_count": 33,
   "metadata": {
    "execution": {
     "iopub.execute_input": "2022-04-24T11:18:08.563259Z",
     "iopub.status.busy": "2022-04-24T11:18:08.560722Z",
     "iopub.status.idle": "2022-04-24T11:18:08.869078Z",
     "shell.execute_reply": "2022-04-24T11:18:08.868099Z",
     "shell.execute_reply.started": "2022-04-24T11:18:08.563195Z"
    }
   },
   "outputs": [
    {
     "name": "stdout",
     "output_type": "stream",
     "text": [
      "Linear Regression(Ridge) R^2: 0.15490\n",
      "          Neural Network R^2: 0.20813\n",
      "           Random Forest R^2: 0.28400\n",
      "                Catboost R^2: 0.34180\n",
      "       XGBoost Regressor R^2: 0.31532\n",
      "    XGBoost RF Regressor R^2: 0.27373\n",
      "Linear Regression(lasso) R^2: 0.14433\n",
      "       Linear Regression R^2: 0.15490\n",
      " Light Gradient Boosting R^2: 0.35444\n"
     ]
    }
   ],
   "source": [
    "for name, model in models.items():\n",
    "    y_pred = model.predict(X_test)\n",
    "    r2 = get_r2(y_test, y_pred)\n",
    "    print(name + ' R^2: {:.5f}'.format(r2))"
   ]
  },
  {
   "cell_type": "code",
   "execution_count": 34,
   "metadata": {
    "execution": {
     "iopub.execute_input": "2022-04-24T12:31:32.552675Z",
     "iopub.status.busy": "2022-04-24T12:31:32.552190Z",
     "iopub.status.idle": "2022-04-24T12:31:32.747484Z",
     "shell.execute_reply": "2022-04-24T12:31:32.746719Z",
     "shell.execute_reply.started": "2022-04-24T12:31:32.552634Z"
    }
   },
   "outputs": [
    {
     "data": {
      "text/plain": [
       "33.071859283336416"
      ]
     },
     "execution_count": 34,
     "metadata": {},
     "output_type": "execute_result"
    }
   ],
   "source": [
    "lgbm = LGBMRegressor()\n",
    "lgbm.fit(X_train, y_train)\n",
    "lgbm_pred = lgbm.predict(X_test)\n",
    "mse(y_test, lgbm_pred, squared=False)"
   ]
  },
  {
   "cell_type": "code",
   "execution_count": 35,
   "metadata": {
    "execution": {
     "iopub.execute_input": "2022-04-24T12:31:32.751528Z",
     "iopub.status.busy": "2022-04-24T12:31:32.750899Z",
     "iopub.status.idle": "2022-04-24T12:31:32.760657Z",
     "shell.execute_reply": "2022-04-24T12:31:32.759581Z",
     "shell.execute_reply.started": "2022-04-24T12:31:32.751488Z"
    }
   },
   "outputs": [
    {
     "data": {
      "text/plain": [
       "0.35443612939446156"
      ]
     },
     "execution_count": 35,
     "metadata": {},
     "output_type": "execute_result"
    }
   ],
   "source": [
    "get_r2(y_test, lgbm_pred)"
   ]
  },
  {
   "cell_type": "code",
   "execution_count": 37,
   "metadata": {
    "execution": {
     "iopub.execute_input": "2022-04-24T11:54:09.591307Z",
     "iopub.status.busy": "2022-04-24T11:54:09.590512Z",
     "iopub.status.idle": "2022-04-24T11:54:12.836901Z",
     "shell.execute_reply": "2022-04-24T11:54:12.835958Z",
     "shell.execute_reply.started": "2022-04-24T11:54:09.591269Z"
    }
   },
   "outputs": [
    {
     "data": {
      "image/png": "[encoded data removed]",
      "text/plain": [
       "<Figure size 432x288 with 1 Axes>"
      ]
     },
     "metadata": {
      "needs_background": "light"
     },
     "output_type": "display_data"
    }
   ],
   "source": [
    "from sklearn.inspection import permutation_importance\n",
    "\n",
    "result = permutation_importance(lgbm, X.values, y, n_repeats=10, random_state=42)\n",
    "\n",
    "perm_imp_idx = result.importances_mean.argsort()\n",
    "\n",
    "plt.boxplot(result.importances[perm_imp_idx].T, vert=False, labels=X.columns[perm_imp_idx])\n",
    "plt.title('Feature Importance for the Dataset')\n",
    "\n",
    "plt.show()"
   ]
  },
  {
   "cell_type": "code",
   "execution_count": 38,
   "metadata": {
    "execution": {
     "iopub.execute_input": "2022-04-24T12:31:40.691006Z",
     "iopub.status.busy": "2022-04-24T12:31:40.690415Z",
     "iopub.status.idle": "2022-04-24T12:31:40.720606Z",
     "shell.execute_reply": "2022-04-24T12:31:40.719727Z",
     "shell.execute_reply.started": "2022-04-24T12:31:40.690966Z"
    }
   },
   "outputs": [
    {
     "data": {
      "text/plain": [
       "array([-372.45039978, -386.64963483, -388.8511775 , ..., -371.20300143,\n",
       "       -374.7065956 , -374.64963242])"
      ]
     },
     "execution_count": 38,
     "metadata": {},
     "output_type": "execute_result"
    }
   ],
   "source": [
    "predicted_test = lgbm.predict(test.values)\n",
    "predicted_test"
   ]
  },
  {
   "cell_type": "markdown",
   "metadata": {},
   "source": [
    "## Here we add 'z' because I subtracted with 'z - score' of target \n",
    "## SO here I added 'z' and got the predicted test"
   ]
  },
  {
   "cell_type": "code",
   "execution_count": 39,
   "metadata": {
    "execution": {
     "iopub.execute_input": "2022-04-24T12:32:08.265643Z",
     "iopub.status.busy": "2022-04-24T12:32:08.264667Z",
     "iopub.status.idle": "2022-04-24T12:32:08.272635Z",
     "shell.execute_reply": "2022-04-24T12:32:08.271721Z",
     "shell.execute_reply.started": "2022-04-24T12:32:08.265591Z"
    }
   },
   "outputs": [
    {
     "data": {
      "text/plain": [
       "array([63.57286826, 49.37363321, 47.17209054, ..., 64.82026661,\n",
       "       61.31667244, 61.37363562])"
      ]
     },
     "execution_count": 39,
     "metadata": {},
     "output_type": "execute_result"
    }
   ],
   "source": [
    "final_test = predicted_test + z\n",
    "final_test"
   ]
  },
  {
   "cell_type": "code",
   "execution_count": 40,
   "metadata": {
    "execution": {
     "iopub.execute_input": "2022-04-24T12:32:11.256479Z",
     "iopub.status.busy": "2022-04-24T12:32:11.256176Z",
     "iopub.status.idle": "2022-04-24T12:32:11.261323Z",
     "shell.execute_reply": "2022-04-24T12:32:11.260669Z",
     "shell.execute_reply.started": "2022-04-24T12:32:11.256444Z"
    }
   },
   "outputs": [],
   "source": [
    "ss['demand'] = final_test"
   ]
  },
  {
   "cell_type": "code",
   "execution_count": 41,
   "metadata": {
    "execution": {
     "iopub.execute_input": "2022-04-24T12:32:11.533545Z",
     "iopub.status.busy": "2022-04-24T12:32:11.532989Z",
     "iopub.status.idle": "2022-04-24T12:32:11.541958Z",
     "shell.execute_reply": "2022-04-24T12:32:11.541099Z",
     "shell.execute_reply.started": "2022-04-24T12:32:11.533495Z"
    }
   },
   "outputs": [
    {
     "data": {
      "text/plain": [
       "0       63.572868\n",
       "1       49.373633\n",
       "2       47.172091\n",
       "3       50.069266\n",
       "4       49.741772\n",
       "          ...    \n",
       "7645    88.144515\n",
       "7646    79.034646\n",
       "7647    64.820267\n",
       "7648    61.316672\n",
       "7649    61.373636\n",
       "Name: demand, Length: 7650, dtype: float64"
      ]
     },
     "execution_count": 41,
     "metadata": {},
     "output_type": "execute_result"
    }
   ],
   "source": [
    "ss['demand']"
   ]
  },
  {
   "cell_type": "code",
   "execution_count": 42,
   "metadata": {
    "execution": {
     "iopub.execute_input": "2022-04-24T12:32:47.812042Z",
     "iopub.status.busy": "2022-04-24T12:32:47.811110Z",
     "iopub.status.idle": "2022-04-24T12:32:47.848836Z",
     "shell.execute_reply": "2022-04-24T12:32:47.847960Z",
     "shell.execute_reply.started": "2022-04-24T12:32:47.811997Z"
    }
   },
   "outputs": [],
   "source": [
    "ss.to_csv('ss2.csv', index=False)"
   ]
  },
  {
   "cell_type": "code",
   "execution_count": null,
   "metadata": {},
   "outputs": [],
   "source": []
  }
 ],
 "metadata": {
  "kernelspec": {
   "display_name": "Python 3",
   "language": "python",
   "name": "python3"
  },
  "language_info": {
   "codemirror_mode": {
    "name": "ipython",
    "version": 3
   },
   "file_extension": ".py",
   "mimetype": "text/x-python",
   "name": "python",
   "nbconvert_exporter": "python",
   "pygments_lexer": "ipython3",
   "version": "3.8.8"
  }
 },
 "nbformat": 4,
 "nbformat_minor": 4
}
